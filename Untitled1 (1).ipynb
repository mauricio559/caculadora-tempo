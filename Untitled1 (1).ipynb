{
  "cells": [
    {
      "cell_type": "code",
      "execution_count": null,
      "metadata": {
        "colab": {
          "background_save": true,
          "base_uri": "https://localhost:8080/"
        },
        "id": "YQs8y2Om7UtB",
        "outputId": "17b02439-01bc-4c23-9af1-553c1d1a56ce"
      },
      "outputs": [
        {
          "name": "stdout",
          "output_type": "stream",
          "text": [
            "Descubra quanto tempo o seu time de futebol jogou:\n"
          ]
        }
      ],
      "source": [
        "print (\"Descubra quanto tempo o seu time de futebol jogou:\")\n",
        "numero1 = input (\"Primeiro Tempo\")\n",
        "numero2 = input (\"Segundo Tempo\")\n",
        "numero3 = input (\"Prorrogação\")\n",
        "resultado = int(numero1) + int(numero2) + int(numero3)\n",
        "print(\"O jogo teve uma duração de \" + str(resultado) + \" minutos\")\n",
        "print (\"vamos descobrir quantos minutos de acrescimos teve o jogo\")\n",
        "numero5 = input (\"acrescimos e pausas do primeiro tempo\")\n",
        "numero6 = input (\"acrescimos e pausas do segundo tempo\")\n",
        "numero7 = input (\"acrescimos e pausas da prorrogação\")\n",
        "resultado = int(numero5) + int(numero6) + int(numero7)\n",
        "print(\"O jogo teve um acrescimo de \" + str(resultado) + \" minutos\")\n",
        "if numero1 + numero5 > numero2 + numero6:\n",
        "    print(\"O primeiro tempo foi maior\")\n",
        "elif numero1 + numero5 == numero2 + numero6:\n",
        "    pass # incomplete conditional\n",
        "    print(\"Os tempos foram iguais\")\n",
        "else:\n",
        "    print(\"O segundo tempo foi maior\")\n"
      ]
    },
    {
      "cell_type": "code",
      "execution_count": null,
      "metadata": {
        "id": "Fhkg5gUA7t73"
      },
      "outputs": [],
      "source": []
    }
  ],
  "metadata": {
    "colab": {
      "toc_visible": true,
      "provenance": []
    },
    "kernelspec": {
      "display_name": "Python 3",
      "name": "python3"
    },
    "language_info": {
      "name": "python"
    }
  },
  "nbformat": 4,
  "nbformat_minor": 0
}